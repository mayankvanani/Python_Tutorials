{
 "cells": [
  {
   "cell_type": "markdown",
   "metadata": {},
   "source": [
    "# Saving Structured Data with JSON"
   ]
  },
  {
   "cell_type": "markdown",
   "metadata": {},
   "source": [
    "**JSON** - is a lightweight data-interchange format which is completely independent of any language. hence its supportted by many languages."
   ]
  },
  {
   "cell_type": "markdown",
   "metadata": {},
   "source": [
    "Strings can easily be written to and read from a file. Numbers take a bit more effort, since the read() method only returns strings, which will have to be passed to a function like <span style=\"color:blue\"> int()</span>, which takes a string like `'123'` and returns its numeric value 123. When you want to save more complex data types like nested lists and dictionaries, parsing and serializing by hand becomes complicated."
   ]
  },
  {
   "cell_type": "markdown",
   "metadata": {},
   "source": [
    "Rather than having users constantly writing and debugging code to save complicated data types to files, Python allows you to use the popular data interchange format called <span style=\"color:blue\">JSON (JavaScript Object Notation)</span>. The standard module called <span style=\"color:blue\">json</span> can take Python data hierarchies, and convert them to string representations; this process is called **serializing**. Reconstructing the data from the string representation is called **deserializing**. Between serializing and deserializing, the string representing the object may have been stored in a file or data, or sent over a network connection to some distant machine."
   ]
  },
  {
   "cell_type": "markdown",
   "metadata": {},
   "source": [
    "**Note**: The JSON format is commonly used by modern applications to allow for data exchange. Many programmers are already familiar with it, which makes it a good choice for interoperability. "
   ]
  },
  {
   "cell_type": "markdown",
   "metadata": {},
   "source": [
    "If you have object `x`, you can view its JSON string representation in simple line of code:"
   ]
  },
  {
   "cell_type": "code",
   "execution_count": 1,
   "metadata": {},
   "outputs": [],
   "source": [
    "import json"
   ]
  },
  {
   "cell_type": "code",
   "execution_count": 16,
   "metadata": {},
   "outputs": [
    {
     "name": "stdout",
     "output_type": "stream",
     "text": [
      "[\"Mayank\", 123, \"Hello123\"]\n"
     ]
    }
   ],
   "source": [
    "x = json.dumps(['Mayank',123,'Hello123'])\n",
    "print(x)"
   ]
  },
  {
   "cell_type": "code",
   "execution_count": 17,
   "metadata": {},
   "outputs": [],
   "source": [
    "f = open('newfile.txt', 'r+')"
   ]
  },
  {
   "cell_type": "markdown",
   "metadata": {},
   "source": [
    "Another variant of the <span style=\"color:blue\">dumps()</span> function, called <span style=\"color:blue\">dump()</span>, simply serializes the object to a text file. So if `f` is a <span style=\"color:blue\">textfile</span> object opened for writing, we can do this:"
   ]
  },
  {
   "cell_type": "code",
   "execution_count": 18,
   "metadata": {},
   "outputs": [],
   "source": [
    "json.dump(x, f)"
   ]
  },
  {
   "cell_type": "code",
   "execution_count": 19,
   "metadata": {},
   "outputs": [],
   "source": [
    "f.close()"
   ]
  },
  {
   "cell_type": "code",
   "execution_count": 20,
   "metadata": {},
   "outputs": [
    {
     "data": {
      "text/plain": [
       "'\"[\\\\\"Mayank\\\\\", 123, \\\\\"Hello123\\\\\"]\"'"
      ]
     },
     "execution_count": 20,
     "metadata": {},
     "output_type": "execute_result"
    }
   ],
   "source": [
    "## re-opening file to see what content has been saved\n",
    "\n",
    "f = open('newfile.txt', 'r')\n",
    "f.read()"
   ]
  },
  {
   "cell_type": "code",
   "execution_count": 23,
   "metadata": {},
   "outputs": [],
   "source": [
    "f.close()"
   ]
  },
  {
   "cell_type": "markdown",
   "metadata": {},
   "source": [
    "To decode the object again, if `f` is a <span style=\"color:blue\">text file</span>. object which has been opened for reading:"
   ]
  },
  {
   "cell_type": "code",
   "execution_count": 24,
   "metadata": {},
   "outputs": [],
   "source": [
    "g = open('newfile.txt', 'r+')"
   ]
  },
  {
   "cell_type": "code",
   "execution_count": 25,
   "metadata": {},
   "outputs": [
    {
     "data": {
      "text/plain": [
       "'[\"Mayank\", 123, \"Hello123\"]'"
      ]
     },
     "execution_count": 25,
     "metadata": {},
     "output_type": "execute_result"
    }
   ],
   "source": [
    "json.load(g)"
   ]
  },
  {
   "cell_type": "code",
   "execution_count": 26,
   "metadata": {},
   "outputs": [],
   "source": [
    "g.close()"
   ]
  },
  {
   "cell_type": "markdown",
   "metadata": {},
   "source": [
    "**NOTE**: For futher requirements, look at the official python documentation on 'json' methods."
   ]
  },
  {
   "cell_type": "markdown",
   "metadata": {},
   "source": [
    "Simple seralization can be easily handled by JSON but arbitrary class serialzation requires a bit extra effort and is bit complex. <br/>\n",
    "<br/>\n",
    "This problem of serialising arbirary class/structured data can be easily handled by _<span style=\"color:blue\">pickle</span> protocol_. It is specific to python. <br/>\n",
    "<br/>\n",
    "But pickle is insecure method. Deserializing pickle data coming from an untrusted source can execute arbitrary code, if the data was crafted by a skilled attacker."
   ]
  }
 ],
 "metadata": {
  "kernelspec": {
   "display_name": "Python 3",
   "language": "python",
   "name": "python3"
  },
  "language_info": {
   "codemirror_mode": {
    "name": "ipython",
    "version": 3
   },
   "file_extension": ".py",
   "mimetype": "text/x-python",
   "name": "python",
   "nbconvert_exporter": "python",
   "pygments_lexer": "ipython3",
   "version": "3.6.5"
  }
 },
 "nbformat": 4,
 "nbformat_minor": 2
}
