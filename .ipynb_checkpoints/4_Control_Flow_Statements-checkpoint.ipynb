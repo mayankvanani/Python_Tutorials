{
 "cells": [
  {
   "cell_type": "markdown",
   "metadata": {},
   "source": [
    "# Control Flow Statements"
   ]
  },
  {
   "cell_type": "markdown",
   "metadata": {},
   "source": [
    "## 1. WHILE loop"
   ]
  },
  {
   "cell_type": "code",
   "execution_count": 6,
   "metadata": {},
   "outputs": [
    {
     "name": "stdout",
     "output_type": "stream",
     "text": [
      "1\t1\t2\t3\t5\t8\t"
     ]
    }
   ],
   "source": [
    "## Fibonacci series (to find the 6th number in series)\n",
    "## 1 1 2 3 5 8 13 . . . \n",
    "\n",
    "a, b = 0, 1\n",
    "print('1', end='\\t')  ## printing out he first number\n",
    "\n",
    "for i in range(5):  ## prints series from second numbers.\n",
    "    a, b = b, a + b\n",
    "    print(b, end='\\t')"
   ]
  },
  {
   "cell_type": "markdown",
   "metadata": {},
   "source": [
    "## 2. IF statement"
   ]
  },
  {
   "cell_type": "code",
   "execution_count": 7,
   "metadata": {},
   "outputs": [
    {
     "name": "stdout",
     "output_type": "stream",
     "text": [
      "Number is grater than one\n"
     ]
    }
   ],
   "source": [
    "a = 5\n",
    "if a < 0:\n",
    "    print('Number is negetive')\n",
    "elif a == 0:\n",
    "    print('Number is Zero')\n",
    "elif a == 1:\n",
    "    print('Number is Singular')\n",
    "else:\n",
    "    print('Number is grater than one')"
   ]
  },
  {
   "cell_type": "markdown",
   "metadata": {},
   "source": [
    "## 3. FOR loop\n",
    "\n",
    "Python's for loop can iterate over a list, string and numbers also which was restricted in C, C++ wherer in the user used to give the iteration limit and iteration step."
   ]
  },
  {
   "cell_type": "code",
   "execution_count": 12,
   "metadata": {
    "scrolled": true
   },
   "outputs": [
    {
     "name": "stdout",
     "output_type": "stream",
     "text": [
      "cat 3\n",
      "dog 3\n",
      "rabbit 6\n",
      "c\n",
      "a\n",
      "t\n"
     ]
    }
   ],
   "source": [
    "lists = ['cat','dog','rabbit']\n",
    "\n",
    "for words in lists:\n",
    "    print(words, len(words))\n",
    "    \n",
    "for alpha in lists[0]:\n",
    "    print(alpha)"
   ]
  },
  {
   "cell_type": "markdown",
   "metadata": {},
   "source": [
    "## The RANGE function\n",
    "\n",
    "when not iterating over sequences, range() function produces Arithematic Progressions. \n",
    "\n",
    "\n",
    "`range(5,10)` <br/>\n",
    "5, 6, 7, 8, 9 \n",
    "\n",
    "`range(0, 1.2, 0.2)`<br/>\n",
    " 0, 0.2, 0.4, 0.6, 0.8, 1.0\n",
    "\n",
    "`range(-10, -100, -30)`<br/>\n",
    " -10, -40, -70\n"
   ]
  },
  {
   "cell_type": "code",
   "execution_count": 16,
   "metadata": {},
   "outputs": [
    {
     "name": "stdout",
     "output_type": "stream",
     "text": [
      "0 apple\n",
      "1 mango\n",
      "2 banana\n",
      "3 grapes\n"
     ]
    }
   ],
   "source": [
    "## To iterate over the indices of the lists\n",
    "\n",
    "fruits = ['apple','mango','banana','grapes']\n",
    "\n",
    "for i in range(len(fruits)):\n",
    "    print(i, fruits[i])"
   ]
  },
  {
   "cell_type": "markdown",
   "metadata": {},
   "source": [
    "For such things, its convienient to use **`Enumerate()`** function"
   ]
  },
  {
   "cell_type": "code",
   "execution_count": 17,
   "metadata": {},
   "outputs": [
    {
     "data": {
      "text/plain": [
       "[(0, 'apple'), (1, 'mango'), (2, 'banana'), (3, 'grapes')]"
      ]
     },
     "execution_count": 17,
     "metadata": {},
     "output_type": "execute_result"
    }
   ],
   "source": [
    "list(enumerate(fruits))"
   ]
  },
  {
   "cell_type": "code",
   "execution_count": 18,
   "metadata": {},
   "outputs": [
    {
     "data": {
      "text/plain": [
       "[(1, 'apple'), (2, 'mango'), (3, 'banana'), (4, 'grapes')]"
      ]
     },
     "execution_count": 18,
     "metadata": {},
     "output_type": "execute_result"
    }
   ],
   "source": [
    "list(enumerate(fruits, start=1))"
   ]
  },
  {
   "cell_type": "markdown",
   "metadata": {},
   "source": [
    "## BREAK, CONTINUE and ELSE clauses on loops"
   ]
  },
  {
   "cell_type": "code",
   "execution_count": 3,
   "metadata": {},
   "outputs": [
    {
     "name": "stdout",
     "output_type": "stream",
     "text": [
      "2 is a prime number\n",
      "3 is a prime number\n",
      "4 is equal to 2 * 2\n",
      "5 is a prime number\n",
      "6 is equal to 2 * 3\n",
      "7 is a prime number\n",
      "8 is equal to 2 * 4\n",
      "9 is equal to 3 * 3\n"
     ]
    }
   ],
   "source": [
    "for n in range(2, 10):\n",
    "    for x in range(2, n):\n",
    "        if n % x == 0:\n",
    "            print('{} is equal to {} * {}'.format(n, x, n//x))\n",
    "            break\n",
    "    else:\n",
    "        print('{} is a prime number'.format(n))"
   ]
  },
  {
   "cell_type": "markdown",
   "metadata": {},
   "source": [
    "(Yes, this is the correct code. Look closely: the `else` clause belongs to the `for` loop, not the `if` statement.)\n",
    "\n",
    "When used with a loop, the `else` clause has more in common with the `else` clause of a `try` statement than it does with that of `if` statements: a `try` statement’s `else` clause runs when no exception occurs, and a loop’s `else` clause runs when no `break` occurs."
   ]
  },
  {
   "cell_type": "code",
   "execution_count": 28,
   "metadata": {},
   "outputs": [
    {
     "name": "stdout",
     "output_type": "stream",
     "text": [
      "0 is even\n",
      "1 is odd\n",
      "2 is even\n",
      "3 is odd\n",
      "4 is even\n",
      "5 is odd\n",
      "6 is even\n",
      "7 is odd\n",
      "8 is even\n",
      "9 is odd\n"
     ]
    }
   ],
   "source": [
    "## The continue statement, also borrowed from C, continues with the next iteration of the loop\n",
    "\n",
    "for num in range(0,10):\n",
    "    if num % 2 == 0:\n",
    "        print(num, 'is even')\n",
    "        continue\n",
    "    print(num, 'is odd')"
   ]
  },
  {
   "cell_type": "markdown",
   "metadata": {},
   "source": [
    "## PASS statements"
   ]
  },
  {
   "cell_type": "code",
   "execution_count": 3,
   "metadata": {},
   "outputs": [
    {
     "name": "stdout",
     "output_type": "stream",
     "text": [
      "5\n",
      "6\n",
      "7\n",
      "8\n",
      "9\n"
     ]
    }
   ],
   "source": [
    "for num in range(0, 10):\n",
    "    if num < 5:\n",
    "        pass         ## Does nothing and drops evenrything below it.\n",
    "    else:\n",
    "        print(num)"
   ]
  }
 ],
 "metadata": {
  "kernelspec": {
   "display_name": "Python 3",
   "language": "python",
   "name": "python3"
  },
  "language_info": {
   "codemirror_mode": {
    "name": "ipython",
    "version": 3
   },
   "file_extension": ".py",
   "mimetype": "text/x-python",
   "name": "python",
   "nbconvert_exporter": "python",
   "pygments_lexer": "ipython3",
   "version": "3.6.5"
  }
 },
 "nbformat": 4,
 "nbformat_minor": 2
}
